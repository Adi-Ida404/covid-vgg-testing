{
 "cells": [
  {
   "cell_type": "markdown",
   "id": "2228712f",
   "metadata": {},
   "source": [
    "- Loads your dataset with the same folder structure (COVID/, Non-COVID/, Normal/).\n",
    "\n",
    "- Preprocesses images for COVID-CAPS.\n",
    "\n",
    "- Loads pre-trained weights (pre-train.h5) from COVID-CAPS.\n",
    "\n",
    "- Replaces the final Dense layer for 3-class classification.\n",
    "\n",
    "- Fine-tunes on your dataset.\n",
    "\n",
    "- Evaluates with a classification report + confusion matrix.\n",
    "\n",
    "- Saves the fine-tuned model (covid_caps_finetuned.h5)\n"
   ]
  },
  {
   "cell_type": "code",
   "execution_count": null,
   "id": "1b687168",
   "metadata": {},
   "outputs": [],
   "source": [
    "import os\n",
    "import torch\n",
    "import torch.nn as nn\n",
    "import torch.optim as optim\n",
    "from torch.utils.data import DataLoader\n",
    "from torchvision import datasets, transforms\n",
    "from torch.optim.lr_scheduler import ReduceLROnPlateau\n",
    "\n",
    "import tqdm\n",
    "import cv2"
   ]
  },
  {
   "cell_type": "code",
   "execution_count": null,
   "id": "6bbbd1b5",
   "metadata": {},
   "outputs": [],
   "source": [
    "IMG_SIZE = 224\n",
    "BATCH_SIZE = 32\n",
    "EPOCHS = 20\n",
    "LR = 1e-4\n",
    "DEVICE = torch.device(\"cuda\" if torch.cuda.is_available() else \"cpu\")"
   ]
  },
  {
   "cell_type": "code",
   "execution_count": null,
   "id": "6a0d2889",
   "metadata": {},
   "outputs": [],
   "source": [
    "base_infect = \"data_cxr/covid_qu_ex/Infection Segmentation Data/Infection Segmentation Data\"\n",
    "base_lung = \"data_cxr/covid_qu_ex/Lung Segmentation Data/Lung Segmentation Data\"\n",
    "output_base = \"data_cxr/covid_qu_ex_masked\"\n",
    "\n",
    "splits = [\"Train\", \"Val\", \"Test\"]\n",
    "classes = [\"COVID-19\", \"Normal\", \"Non-COVID\"]\n",
    "\n",
    "os.makedirs(output_base, exist_ok=True)\n",
    "\n",
    "for split in splits:\n",
    "    for cls in classes:\n",
    "        img_dir = os.path.join(base_infect, split, cls, \"images\")\n",
    "        mask_dir = os.path.join(base_lung, split, cls, \"lung masks\")\n",
    "        out_dir = os.path.join(output_base, split.lower(), cls)\n",
    "        os.makedirs(out_dir, exist_ok=True)\n",
    "        \n",
    "        for fname in tqdm.tqdm(os.listdir(img_dir), desc=f\"{split}-{cls}\"):\n",
    "            img_path = os.path.join(img_dir, fname)\n",
    "            mask_path = os.path.join(mask_dir, fname)\n",
    "            \n",
    "            if not os.path.exists(mask_path):\n",
    "                continue\n",
    "            \n",
    "            img = cv2.imread(img_path, cv2.IMREAD_GRAYSCALE)\n",
    "            mask = cv2.imread(mask_path, cv2.IMREAD_GRAYSCALE)\n",
    "            mask = (mask > 0).astype(np.uint8)\n",
    "            masked_img = img * mask\n",
    "            masked_img_rgb = cv2.cvtColor(masked_img, cv2.COLOR_GRAY2BGR)\n",
    "            cv2.imwrite(os.path.join(out_dir, fname), masked_img_rgb)\n"
   ]
  },
  {
   "cell_type": "code",
   "execution_count": 3,
   "id": "7ebc23b0",
   "metadata": {},
   "outputs": [],
   "source": [
    "data_dir = \"data_cxr/covid_qu_ex_masked\"  # after your preprocessing\n",
    "train_dir = os.path.join(data_dir, \"train\")\n",
    "val_dir = os.path.join(data_dir, \"val\")\n",
    "test_dir = os.path.join(data_dir, \"test\")"
   ]
  },
  {
   "cell_type": "code",
   "execution_count": 4,
   "id": "7b6c1626",
   "metadata": {},
   "outputs": [],
   "source": [
    "train_transforms = transforms.Compose([\n",
    "    transforms.Resize((IMG_SIZE, IMG_SIZE)),\n",
    "    transforms.RandomHorizontalFlip(),\n",
    "    transforms.RandomRotation(10),\n",
    "    transforms.ToTensor(),\n",
    "    transforms.Normalize([0.5], [0.5])  # grayscale normalization\n",
    "])\n",
    "\n",
    "val_test_transforms = transforms.Compose([\n",
    "    transforms.Resize((IMG_SIZE, IMG_SIZE)),\n",
    "    transforms.ToTensor(),\n",
    "    transforms.Normalize([0.5], [0.5])\n",
    "])"
   ]
  },
  {
   "cell_type": "code",
   "execution_count": 5,
   "id": "38db9442",
   "metadata": {},
   "outputs": [
    {
     "name": "stdout",
     "output_type": "stream",
     "text": [
      "Classes: ['COVID-19', 'Non-COVID', 'Normal']\n"
     ]
    }
   ],
   "source": [
    "train_dataset = datasets.ImageFolder(train_dir, transform=train_transforms)\n",
    "val_dataset = datasets.ImageFolder(val_dir, transform=val_test_transforms)\n",
    "test_dataset = datasets.ImageFolder(test_dir, transform=val_test_transforms)\n",
    "\n",
    "train_loader = DataLoader(train_dataset, batch_size=BATCH_SIZE, shuffle=True)\n",
    "val_loader = DataLoader(val_dataset, batch_size=BATCH_SIZE, shuffle=False)\n",
    "test_loader = DataLoader(test_dataset, batch_size=BATCH_SIZE, shuffle=False)\n",
    "\n",
    "num_classes = len(train_dataset.classes)\n",
    "print(\"Classes:\", train_dataset.classes)"
   ]
  },
  {
   "cell_type": "code",
   "execution_count": 10,
   "id": "13dd4c27",
   "metadata": {},
   "outputs": [],
   "source": [
    "class CapsuleNet(nn.Module):\n",
    "    def __init__(self, num_classes=3):\n",
    "        super(CapsuleNet, self).__init__()\n",
    "        self.conv1 = nn.Conv2d(3, 64, kernel_size=9, stride=1, padding=0)\n",
    "        self.primary_caps = nn.Conv2d(64, 32 * 8, kernel_size=9, stride=2, padding=0)\n",
    "        \n",
    "        # figure out flattened size automatically\n",
    "        with torch.no_grad():\n",
    "            dummy = torch.zeros(1, 3, 224, 224)  # batch=1, RGB, 224x224\n",
    "            out = torch.relu(self.conv1(dummy))\n",
    "            out = self.primary_caps(out)\n",
    "            flat_size = out.view(1, -1).size(1)\n",
    "        \n",
    "        self.fc1 = nn.Linear(flat_size, 256)\n",
    "        self.fc2 = nn.Linear(256, num_classes)\n",
    "\n",
    "    def forward(self, x):\n",
    "        x = torch.relu(self.conv1(x))\n",
    "        x = self.primary_caps(x)\n",
    "        x = x.view(x.size(0), -1)  # flatten\n",
    "        x = torch.relu(self.fc1(x))\n",
    "        out = self.fc2(x)\n",
    "        return out\n",
    "\n",
    "\n",
    "model = CapsuleNet(num_classes=num_classes).to(DEVICE)"
   ]
  },
  {
   "cell_type": "code",
   "execution_count": 7,
   "id": "acf3666c",
   "metadata": {},
   "outputs": [
    {
     "name": "stdout",
     "output_type": "stream",
     "text": [
      "⚠️ Could not load pretrained weights: Weights only load failed. In PyTorch 2.6, we changed the default value of the `weights_only` argument in `torch.load` from `False` to `True`. Re-running `torch.load` with `weights_only` set to `False` will likely succeed, but it can result in arbitrary code execution. Do it only if you got the file from a trusted source.\n",
      "Please file an issue with the following so that we can make `weights_only=True` compatible with your use case: WeightsUnpickler error: Unsupported operand 72\n",
      "\n",
      "Check the documentation of torch.load to learn more about types accepted by default with weights_only https://pytorch.org/docs/stable/generated/torch.load.html.\n"
     ]
    }
   ],
   "source": [
    "pretrain_path = \"pre-train.h5\"\n",
    "if os.path.exists(pretrain_path):\n",
    "    try:\n",
    "        state_dict = torch.load(pretrain_path, map_location=DEVICE)\n",
    "        model.load_state_dict(state_dict, strict=False)\n",
    "        print(\"✅ Loaded pretrained COVID-CAPS weights\")\n",
    "    except Exception as e:\n",
    "        print(\"⚠️ Could not load pretrained weights:\", e)"
   ]
  },
  {
   "cell_type": "code",
   "execution_count": 8,
   "id": "e877dbf6",
   "metadata": {},
   "outputs": [],
   "source": [
    "criterion = nn.CrossEntropyLoss()\n",
    "optimizer = optim.Adam(model.parameters(), lr=LR)\n",
    "scheduler = ReduceLROnPlateau(optimizer, mode='max', patience=3, factor=0.5)"
   ]
  },
  {
   "cell_type": "code",
   "execution_count": 11,
   "id": "3f6dd3f3",
   "metadata": {},
   "outputs": [
    {
     "ename": "",
     "evalue": "",
     "output_type": "error",
     "traceback": [
      "\u001b[1;31mThe Kernel crashed while executing code in the current cell or a previous cell. \n",
      "\u001b[1;31mPlease review the code in the cell(s) to identify a possible cause of the failure. \n",
      "\u001b[1;31mClick <a href='https://aka.ms/vscodeJupyterKernelCrash'>here</a> for more info. \n",
      "\u001b[1;31mView Jupyter <a href='command:jupyter.viewOutput'>log</a> for further details."
     ]
    }
   ],
   "source": [
    "best_acc = 0.0\n",
    "for epoch in range(EPOCHS):\n",
    "    model.train()\n",
    "    train_loss, correct, total = 0, 0, 0\n",
    "    for images, labels in train_loader:\n",
    "        images, labels = images.to(DEVICE), labels.to(DEVICE)\n",
    "        optimizer.zero_grad()\n",
    "        outputs = model(images)\n",
    "        loss = criterion(outputs, labels)\n",
    "        loss.backward()\n",
    "        optimizer.step()\n",
    "\n",
    "        train_loss += loss.item()\n",
    "        _, predicted = outputs.max(1)\n",
    "        total += labels.size(0)\n",
    "        correct += predicted.eq(labels).sum().item()\n",
    "\n",
    "    train_acc = 100. * correct / total\n",
    "\n",
    "    # Validation\n",
    "    model.eval()\n",
    "    val_loss, val_correct, val_total = 0, 0, 0\n",
    "    with torch.no_grad():\n",
    "        for images, labels in val_loader:\n",
    "            images, labels = images.to(DEVICE), labels.to(DEVICE)\n",
    "            outputs = model(images)\n",
    "            loss = criterion(outputs, labels)\n",
    "            val_loss += loss.item()\n",
    "            _, predicted = outputs.max(1)\n",
    "            val_total += labels.size(0)\n",
    "            val_correct += predicted.eq(labels).sum().item()\n",
    "\n",
    "    val_acc = 100. * val_correct / val_total\n",
    "    print(f\"Epoch [{epoch+1}/{EPOCHS}] \"\n",
    "          f\"Train Acc: {train_acc:.2f}% | Val Acc: {val_acc:.2f}%\")\n",
    "\n",
    "    # Save best model\n",
    "    if val_acc > best_acc:\n",
    "        best_acc = val_acc\n",
    "        torch.save(model.state_dict(), \"covid_caps_best.pth\")\n",
    "        print(\"💾 Saved Best Model\")\n",
    "\n",
    "    scheduler.step(val_acc)\n"
   ]
  },
  {
   "cell_type": "code",
   "execution_count": null,
   "id": "3f35736f",
   "metadata": {},
   "outputs": [],
   "source": [
    "model.load_state_dict(torch.load(\"covid_caps_best.pth\"))\n",
    "model.eval()\n",
    "test_correct, test_total = 0, 0\n",
    "with torch.no_grad():\n",
    "    for images, labels in test_loader:\n",
    "        images, labels = images.to(DEVICE), labels.to(DEVICE)\n",
    "        outputs = model(images)\n",
    "        _, predicted = outputs.max(1)\n",
    "        test_total += labels.size(0)\n",
    "        test_correct += predicted.eq(labels).sum().item()\n",
    "\n",
    "test_acc = 100. * test_correct / test_total\n",
    "print(f\"🎯 Test Accuracy: {test_acc:.2f}%\")"
   ]
  }
 ],
 "metadata": {
  "kernelspec": {
   "display_name": "venv",
   "language": "python",
   "name": "python3"
  },
  "language_info": {
   "codemirror_mode": {
    "name": "ipython",
    "version": 3
   },
   "file_extension": ".py",
   "mimetype": "text/x-python",
   "name": "python",
   "nbconvert_exporter": "python",
   "pygments_lexer": "ipython3",
   "version": "3.13.6"
  }
 },
 "nbformat": 4,
 "nbformat_minor": 5
}
